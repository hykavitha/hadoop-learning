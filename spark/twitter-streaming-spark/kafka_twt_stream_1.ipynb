{
 "cells": [
  {
   "cell_type": "code",
   "execution_count": 7,
   "metadata": {},
   "outputs": [],
   "source": [
    "from kafka import SimpleProducer, KafkaClient\n",
    "from tweepy.streaming import StreamListener\n",
    "from tweepy import OAuthHandler\n",
    "from tweepy import Stream"
   ]
  },
  {
   "cell_type": "code",
   "execution_count": 3,
   "metadata": {},
   "outputs": [],
   "source": [
    "kafka = KafkaClient(\"localhost:9092\")\n",
    "# l = StdOutListener()"
   ]
  },
  {
   "cell_type": "code",
   "execution_count": 8,
   "metadata": {},
   "outputs": [],
   "source": [
    "\n",
    "access_token = \"101480552-AU0ASumuykNEm7UBSsKJyn8oZmRC74sNanuWWNQ6\"\n",
    "access_token_secret =  \"0CxA70qDFSmDaXbSZg98drcnkth2hsjitP5eFs6MZSmOl\"\n",
    "consumer_key =  \"jAhFbY8cVz2CTLauoh0SvsrW7\"\n",
    "consumer_secret =  \"ePverAHquzCBuas6uk9TcgI8lZ4E06LYHrrpHoJedkdZxky7Bm\""
   ]
  },
  {
   "cell_type": "code",
   "execution_count": 9,
   "metadata": {},
   "outputs": [],
   "source": [
    "class StdOutListener(StreamListener):\n",
    "    def on_data(self, data):\n",
    "        producer.send_messages(\"trump\", data.encode('utf-8'))\n",
    "        print (data)\n",
    "        return True\n",
    "    def on_error(self, status):\n",
    "        print (status)"
   ]
  },
  {
   "cell_type": "code",
   "execution_count": 10,
   "metadata": {},
   "outputs": [],
   "source": [
    "producer = SimpleProducer(kafka)\n",
    "l = StdOutListener()"
   ]
  },
  {
   "cell_type": "code",
   "execution_count": 11,
   "metadata": {},
   "outputs": [],
   "source": [
    "auth = OAuthHandler(consumer_key, consumer_secret)\n"
   ]
  },
  {
   "cell_type": "code",
   "execution_count": 12,
   "metadata": {},
   "outputs": [
    {
     "data": {
      "text/plain": [
       "<tweepy.auth.OAuthHandler at 0x10e319390>"
      ]
     },
     "execution_count": 12,
     "metadata": {},
     "output_type": "execute_result"
    }
   ],
   "source": []
  }
