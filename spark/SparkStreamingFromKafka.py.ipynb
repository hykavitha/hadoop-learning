{
 "cells": [
  {
   "cell_type": "code",
   "execution_count": 1,
   "metadata": {},
   "outputs": [],
   "source": [
    "import sys\n",
    "from pyspark import SparkContext\n",
    "from pyspark.streaming import StreamingContext\n",
    "from pyspark.streaming.kafka import KafkaUtils\n"
   ]
  },
  {
   "cell_type": "code",
   "execution_count": 2,
   "metadata": {},
   "outputs": [
    {
     "ename": "SyntaxError",
     "evalue": "invalid character in identifier (<ipython-input-2-62ff6b791e9a>, line 25)",
     "output_type": "error",
     "traceback": [
      "\u001b[0;36m  File \u001b[0;32m\"<ipython-input-2-62ff6b791e9a>\"\u001b[0;36m, line \u001b[0;32m25\u001b[0m\n\u001b[0;31m    counts = lines.flatMap(lambda line: line.split(“ “))                   .map(lambda word: (word, 1))                   .reduceByKey(lambda a, b: a+b)\u001b[0m\n\u001b[0m                                                   ^\u001b[0m\n\u001b[0;31mSyntaxError\u001b[0m\u001b[0;31m:\u001b[0m invalid character in identifier\n"
     ]
    }
   ],
   "source": [
    "# sys.argv = ['trump', 'trump']\n",
    "\n",
    "# val topics = Array(\"trump\")\n",
    "# val stream = KafkaUtils.createDirectStream[String, String](ssc,PreferConsistent,\n",
    "#                                                            Subscribe[String, String](topics, kafkaParams))\n",
    "\n",
    "\n",
    "if __name__ == \"__main__\":\n",
    "    #spark context\n",
    "    sc = SparkContext(appName=\"PythonStreamingDirectKafkaTwtStream\")\n",
    "    #streaming context\n",
    "    ssc = StreamingContext(sc, 2)\n",
    "    #setting the topic\n",
    "    brokers, topic = sys.argv[1:]\n",
    "    #setting up stream\n",
    "    \n",
    "    #KafkaUtils.createDirectStream creates a org.apache.spark.streaming.dstream.DStream.\n",
    "    #To work with that data we use the Dstream.foreach() method to pluck off RDDs as they are created. \n",
    "    #Then we use RDD.foreach() to get each object in the RDD. Those objects will be Kafka ConsumerRecords, \n",
    "    #i.e., org.apache.kafka.clients.consumer.ConsumerRecord. \n",
    "    #You use the ConsumerRecord.value() method to read the message retrieved from the Kafka topic.\n",
    "    kvs = KafkaUtils.createDirectStream(ssc, [topic],{\"metadata.broker.list\": brokers})\n",
    "   \n",
    "    lines = kvs.map(lambda x: x[1])\n",
    "    counts = lines.flatMap(lambda line: line.split(“ “)) \\\n",
    "                  .map(lambda word: (word, 1)) \\\n",
    "                  .reduceByKey(lambda a, b: a+b)\n",
    "            \n",
    "            \n",
    "    counts.pprint()\n",
    "    ssc.start()\n",
    "    ssc.awaitTermination()\n",
    "    \n",
    "# stream.foreachRDD { rdd =>\n",
    "# rdd.foreach { record =>\n",
    "# val value = record.value()\n",
    "# val tweet = scala.util.parsing.json.JSON.parseFull(value)\n",
    "# val map:Map[String,Any] = tweet.get.asInstanceOf[Map[String, Any]]\n",
    "# println(map.get(\"text\"))\n",
    "# }\n",
    "# }\n",
    "\n"
   ]
  },
  {
   "cell_type": "code",
   "execution_count": null,
   "metadata": {},
   "outputs": [],
   "source": [
    " \n",
    "    "
   ]
  }
 ],
 "metadata": {
  "kernelspec": {
   "display_name": "Python 3",
   "language": "python",
   "name": "python3"
  },
  "language_info": {
   "codemirror_mode": {
    "name": "ipython",
    "version": 3
   },
   "file_extension": ".py",
   "mimetype": "text/x-python",
   "name": "python",
   "nbconvert_exporter": "python",
   "pygments_lexer": "ipython3",
   "version": "3.5.1"
  }
 },
 "nbformat": 4,
 "nbformat_minor": 2
}
